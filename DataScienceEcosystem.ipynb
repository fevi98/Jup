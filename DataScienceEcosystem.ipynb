{
    "cells": [
        {
            "metadata": {},
            "cell_type": "markdown",
            "source": "# Data Science Tools and Ecosystem"
        },
        {
            "metadata": {},
            "cell_type": "markdown",
            "source": "In this notebook, Data Science Tools and Ecosystem are summarized."
        },
        {
            "metadata": {},
            "cell_type": "markdown",
            "source": "Some of the popular languages that Data Scientist use are:\n1. Python\n1. R\n1. Scala\n1. SQL\n1. Java"
        },
        {
            "metadata": {},
            "cell_type": "markdown",
            "source": "Some of the commonly used libraries used by Data Scientist include:\n1. NumPy\n1. SciPy\n1. Pandas\n1. Keras\n1. Matplotlib"
        },
        {
            "metadata": {
                "collapsed": true
            },
            "cell_type": "markdown",
            "source": "|Data Science Tools|\n|---|\n|Jupyter Notebooks|\n|Visual Studio Code|\n|R Studio|"
        },
        {
            "metadata": {},
            "cell_type": "markdown",
            "source": "### Below are few examples of evaluating arithmetic expressions in Python."
        },
        {
            "metadata": {},
            "cell_type": "code",
            "source": "#This is a simple arithmetic expression to multiply then add integers.\n(3*4)+5",
            "execution_count": 3,
            "outputs": [
                {
                    "output_type": "execute_result",
                    "execution_count": 3,
                    "data": {
                        "text/plain": "17"
                    },
                    "metadata": {}
                }
            ]
        },
        {
            "metadata": {},
            "cell_type": "code",
            "source": "#This will convert 200 minutes to hours by dividing by 60.\nprint(\"200 minutes are\", (200/60), \"hours\")",
            "execution_count": 10,
            "outputs": [
                {
                    "output_type": "stream",
                    "text": "200 minutes are 3.3333333333333335 hours\n",
                    "name": "stdout"
                }
            ]
        },
        {
            "metadata": {},
            "cell_type": "markdown",
            "source": "**Objectives:**\n- Learn to write simple arithmetic expressions\n- List popular languages in Data Science\n- List popular libraries in Data Science\n- Try to convert minutes to hours"
        },
        {
            "metadata": {},
            "cell_type": "markdown",
            "source": "## Author\nFederico"
        }
    ],
    "metadata": {
        "kernelspec": {
            "name": "python3",
            "display_name": "Python 3.10",
            "language": "python"
        },
        "language_info": {
            "name": "python",
            "version": "3.10.9",
            "mimetype": "text/x-python",
            "codemirror_mode": {
                "name": "ipython",
                "version": 3
            },
            "pygments_lexer": "ipython3",
            "nbconvert_exporter": "python",
            "file_extension": ".py"
        }
    },
    "nbformat": 4,
    "nbformat_minor": 1
}